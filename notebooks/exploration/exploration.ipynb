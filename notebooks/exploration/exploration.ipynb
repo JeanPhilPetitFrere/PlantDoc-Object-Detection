{
 "cells": [
  {
   "cell_type": "code",
   "execution_count": 2,
   "id": "320638a1",
   "metadata": {},
   "outputs": [],
   "source": [
    "import pandas as pd\n",
    "import matplotlib.pyplot as plt\n",
    "import seaborn as sns\n",
    "import re"
   ]
  },
  {
   "cell_type": "code",
   "execution_count": 3,
   "id": "eb71ee9b",
   "metadata": {},
   "outputs": [
    {
     "data": {
      "text/html": [
       "<div>\n",
       "<style scoped>\n",
       "    .dataframe tbody tr th:only-of-type {\n",
       "        vertical-align: middle;\n",
       "    }\n",
       "\n",
       "    .dataframe tbody tr th {\n",
       "        vertical-align: top;\n",
       "    }\n",
       "\n",
       "    .dataframe thead th {\n",
       "        text-align: right;\n",
       "    }\n",
       "</style>\n",
       "<table border=\"1\" class=\"dataframe\">\n",
       "  <thead>\n",
       "    <tr style=\"text-align: right;\">\n",
       "      <th></th>\n",
       "      <th>filename</th>\n",
       "      <th>width</th>\n",
       "      <th>height</th>\n",
       "      <th>class</th>\n",
       "      <th>xmin</th>\n",
       "      <th>ymin</th>\n",
       "      <th>xmax</th>\n",
       "      <th>ymax</th>\n",
       "    </tr>\n",
       "  </thead>\n",
       "  <tbody>\n",
       "    <tr>\n",
       "      <th>0</th>\n",
       "      <td>cherry-tree-leaves-and-fruits.jpg</td>\n",
       "      <td>350</td>\n",
       "      <td>300</td>\n",
       "      <td>Cherry leaf</td>\n",
       "      <td>198</td>\n",
       "      <td>77</td>\n",
       "      <td>299</td>\n",
       "      <td>252</td>\n",
       "    </tr>\n",
       "    <tr>\n",
       "      <th>1</th>\n",
       "      <td>cherry-tree-leaves-and-fruits.jpg</td>\n",
       "      <td>350</td>\n",
       "      <td>300</td>\n",
       "      <td>Cherry leaf</td>\n",
       "      <td>3</td>\n",
       "      <td>114</td>\n",
       "      <td>148</td>\n",
       "      <td>235</td>\n",
       "    </tr>\n",
       "    <tr>\n",
       "      <th>2</th>\n",
       "      <td>cherry-tree-leaves-and-fruits.jpg</td>\n",
       "      <td>350</td>\n",
       "      <td>300</td>\n",
       "      <td>Cherry leaf</td>\n",
       "      <td>30</td>\n",
       "      <td>184</td>\n",
       "      <td>189</td>\n",
       "      <td>297</td>\n",
       "    </tr>\n",
       "    <tr>\n",
       "      <th>3</th>\n",
       "      <td>cherry-tree-leaves-and-fruits.jpg</td>\n",
       "      <td>350</td>\n",
       "      <td>300</td>\n",
       "      <td>Cherry leaf</td>\n",
       "      <td>226</td>\n",
       "      <td>4</td>\n",
       "      <td>346</td>\n",
       "      <td>83</td>\n",
       "    </tr>\n",
       "    <tr>\n",
       "      <th>4</th>\n",
       "      <td>peach-and-leaf-stock-image-2809275.jpg</td>\n",
       "      <td>1300</td>\n",
       "      <td>1099</td>\n",
       "      <td>Peach leaf</td>\n",
       "      <td>237</td>\n",
       "      <td>479</td>\n",
       "      <td>527</td>\n",
       "      <td>810</td>\n",
       "    </tr>\n",
       "  </tbody>\n",
       "</table>\n",
       "</div>"
      ],
      "text/plain": [
       "                                 filename  width  height        class  xmin  \\\n",
       "0       cherry-tree-leaves-and-fruits.jpg    350     300  Cherry leaf   198   \n",
       "1       cherry-tree-leaves-and-fruits.jpg    350     300  Cherry leaf     3   \n",
       "2       cherry-tree-leaves-and-fruits.jpg    350     300  Cherry leaf    30   \n",
       "3       cherry-tree-leaves-and-fruits.jpg    350     300  Cherry leaf   226   \n",
       "4  peach-and-leaf-stock-image-2809275.jpg   1300    1099   Peach leaf   237   \n",
       "\n",
       "   ymin  xmax  ymax  \n",
       "0    77   299   252  \n",
       "1   114   148   235  \n",
       "2   184   189   297  \n",
       "3     4   346    83  \n",
       "4   479   527   810  "
      ]
     },
     "execution_count": 3,
     "metadata": {},
     "output_type": "execute_result"
    }
   ],
   "source": [
    "df = pd.read_csv(\"../../dataset/train_labels.csv\")\n",
    "df.head()"
   ]
  },
  {
   "cell_type": "code",
   "execution_count": 4,
   "id": "ce7c936c",
   "metadata": {},
   "outputs": [
    {
     "data": {
      "text/html": [
       "<div>\n",
       "<style scoped>\n",
       "    .dataframe tbody tr th:only-of-type {\n",
       "        vertical-align: middle;\n",
       "    }\n",
       "\n",
       "    .dataframe tbody tr th {\n",
       "        vertical-align: top;\n",
       "    }\n",
       "\n",
       "    .dataframe thead th {\n",
       "        text-align: right;\n",
       "    }\n",
       "</style>\n",
       "<table border=\"1\" class=\"dataframe\">\n",
       "  <thead>\n",
       "    <tr style=\"text-align: right;\">\n",
       "      <th></th>\n",
       "      <th>filename</th>\n",
       "      <th>width</th>\n",
       "      <th>height</th>\n",
       "      <th>class</th>\n",
       "      <th>xmin</th>\n",
       "      <th>ymin</th>\n",
       "      <th>xmax</th>\n",
       "      <th>ymax</th>\n",
       "    </tr>\n",
       "  </thead>\n",
       "  <tbody>\n",
       "    <tr>\n",
       "      <th>105</th>\n",
       "      <td>2f73110f80014a25a53f9551c94bf164.png.jpg</td>\n",
       "      <td>0</td>\n",
       "      <td>0</td>\n",
       "      <td>Corn Gray leaf spot</td>\n",
       "      <td>58</td>\n",
       "      <td>92</td>\n",
       "      <td>525</td>\n",
       "      <td>386</td>\n",
       "    </tr>\n",
       "    <tr>\n",
       "      <th>5426</th>\n",
       "      <td>SouthernRustLeaf.png.jpg</td>\n",
       "      <td>0</td>\n",
       "      <td>0</td>\n",
       "      <td>Corn rust leaf</td>\n",
       "      <td>1</td>\n",
       "      <td>142</td>\n",
       "      <td>664</td>\n",
       "      <td>349</td>\n",
       "    </tr>\n",
       "    <tr>\n",
       "      <th>5926</th>\n",
       "      <td>ppth-friskop-1-corn-rust.png.jpg</td>\n",
       "      <td>0</td>\n",
       "      <td>0</td>\n",
       "      <td>Corn rust leaf</td>\n",
       "      <td>78</td>\n",
       "      <td>1</td>\n",
       "      <td>566</td>\n",
       "      <td>192</td>\n",
       "    </tr>\n",
       "    <tr>\n",
       "      <th>6817</th>\n",
       "      <td>southernrust1.png.jpg</td>\n",
       "      <td>0</td>\n",
       "      <td>0</td>\n",
       "      <td>Corn rust leaf</td>\n",
       "      <td>55</td>\n",
       "      <td>1</td>\n",
       "      <td>430</td>\n",
       "      <td>628</td>\n",
       "    </tr>\n",
       "  </tbody>\n",
       "</table>\n",
       "</div>"
      ],
      "text/plain": [
       "                                      filename  width  height  \\\n",
       "105   2f73110f80014a25a53f9551c94bf164.png.jpg      0       0   \n",
       "5426                  SouthernRustLeaf.png.jpg      0       0   \n",
       "5926          ppth-friskop-1-corn-rust.png.jpg      0       0   \n",
       "6817                     southernrust1.png.jpg      0       0   \n",
       "\n",
       "                    class  xmin  ymin  xmax  ymax  \n",
       "105   Corn Gray leaf spot    58    92   525   386  \n",
       "5426       Corn rust leaf     1   142   664   349  \n",
       "5926       Corn rust leaf    78     1   566   192  \n",
       "6817       Corn rust leaf    55     1   430   628  "
      ]
     },
     "execution_count": 4,
     "metadata": {},
     "output_type": "execute_result"
    }
   ],
   "source": [
    "df[df['width'] == 0]"
   ]
  },
  {
   "cell_type": "code",
   "execution_count": 5,
   "id": "c2b814b7",
   "metadata": {},
   "outputs": [
    {
     "data": {
      "text/html": [
       "<div>\n",
       "<style scoped>\n",
       "    .dataframe tbody tr th:only-of-type {\n",
       "        vertical-align: middle;\n",
       "    }\n",
       "\n",
       "    .dataframe tbody tr th {\n",
       "        vertical-align: top;\n",
       "    }\n",
       "\n",
       "    .dataframe thead th {\n",
       "        text-align: right;\n",
       "    }\n",
       "</style>\n",
       "<table border=\"1\" class=\"dataframe\">\n",
       "  <thead>\n",
       "    <tr style=\"text-align: right;\">\n",
       "      <th></th>\n",
       "      <th>filename</th>\n",
       "      <th>width</th>\n",
       "      <th>height</th>\n",
       "      <th>class</th>\n",
       "      <th>xmin</th>\n",
       "      <th>ymin</th>\n",
       "      <th>xmax</th>\n",
       "      <th>ymax</th>\n",
       "    </tr>\n",
       "  </thead>\n",
       "  <tbody>\n",
       "    <tr>\n",
       "      <th>105</th>\n",
       "      <td>2f73110f80014a25a53f9551c94bf164.png.jpg</td>\n",
       "      <td>0</td>\n",
       "      <td>0</td>\n",
       "      <td>Corn Gray leaf spot</td>\n",
       "      <td>58</td>\n",
       "      <td>92</td>\n",
       "      <td>525</td>\n",
       "      <td>386</td>\n",
       "    </tr>\n",
       "    <tr>\n",
       "      <th>5426</th>\n",
       "      <td>SouthernRustLeaf.png.jpg</td>\n",
       "      <td>0</td>\n",
       "      <td>0</td>\n",
       "      <td>Corn rust leaf</td>\n",
       "      <td>1</td>\n",
       "      <td>142</td>\n",
       "      <td>664</td>\n",
       "      <td>349</td>\n",
       "    </tr>\n",
       "    <tr>\n",
       "      <th>5926</th>\n",
       "      <td>ppth-friskop-1-corn-rust.png.jpg</td>\n",
       "      <td>0</td>\n",
       "      <td>0</td>\n",
       "      <td>Corn rust leaf</td>\n",
       "      <td>78</td>\n",
       "      <td>1</td>\n",
       "      <td>566</td>\n",
       "      <td>192</td>\n",
       "    </tr>\n",
       "    <tr>\n",
       "      <th>6817</th>\n",
       "      <td>southernrust1.png.jpg</td>\n",
       "      <td>0</td>\n",
       "      <td>0</td>\n",
       "      <td>Corn rust leaf</td>\n",
       "      <td>55</td>\n",
       "      <td>1</td>\n",
       "      <td>430</td>\n",
       "      <td>628</td>\n",
       "    </tr>\n",
       "  </tbody>\n",
       "</table>\n",
       "</div>"
      ],
      "text/plain": [
       "                                      filename  width  height  \\\n",
       "105   2f73110f80014a25a53f9551c94bf164.png.jpg      0       0   \n",
       "5426                  SouthernRustLeaf.png.jpg      0       0   \n",
       "5926          ppth-friskop-1-corn-rust.png.jpg      0       0   \n",
       "6817                     southernrust1.png.jpg      0       0   \n",
       "\n",
       "                    class  xmin  ymin  xmax  ymax  \n",
       "105   Corn Gray leaf spot    58    92   525   386  \n",
       "5426       Corn rust leaf     1   142   664   349  \n",
       "5926       Corn rust leaf    78     1   566   192  \n",
       "6817       Corn rust leaf    55     1   430   628  "
      ]
     },
     "execution_count": 5,
     "metadata": {},
     "output_type": "execute_result"
    }
   ],
   "source": [
    "df[df['height'] == 0]"
   ]
  },
  {
   "cell_type": "code",
   "execution_count": null,
   "id": "dcb28b97",
   "metadata": {},
   "outputs": [
    {
     "name": "stdout",
     "output_type": "stream",
     "text": [
      "⚠️ Image not found: ../../dataset/train/NCLB.jpg\n",
      "⚠️ Image not found: ../../dataset/train/early-blight-1.jpg\n",
      "⚠️ Image not found: ../../dataset/train/powdery-mildew-on-squash-leaves.jpg\n"
     ]
    }
   ],
   "source": [
    "## Automatic change if w or h = 0\n",
    "import os\n",
    "import xml.etree.ElementTree as ET\n",
    "from PIL import Image\n",
    "\n",
    "folder = \"../../dataset/train\"\n",
    "\n",
    "for xml_file in os.listdir(folder):\n",
    "    if not xml_file.endswith(\".xml\"):\n",
    "        continue\n",
    "\n",
    "    xml_path = os.path.join(folder, xml_file)\n",
    "    tree = ET.parse(xml_path)\n",
    "    root = tree.getroot()\n",
    "\n",
    "    # get filename\n",
    "    filename = root.find(\"filename\").text\n",
    "    img_path = os.path.join(folder, filename)\n",
    "\n",
    "    if not os.path.exists(img_path):\n",
    "        print(f\"⚠️ Image not found: {img_path}\")\n",
    "        continue\n",
    "\n",
    "    # open image to get size\n",
    "    with Image.open(img_path) as img:\n",
    "        width, height = img.size\n",
    "\n",
    "    size_tag = root.find(\"size\")\n",
    "    if size_tag is not None:\n",
    "        size_tag.find(\"width\").text = str(width)\n",
    "        size_tag.find(\"height\").text = str(height)\n",
    "    else:\n",
    "        # create <size> if missing\n",
    "        size_tag = ET.SubElement(root, \"size\")\n",
    "        ET.SubElement(size_tag, \"width\").text = str(width)\n",
    "        ET.SubElement(size_tag, \"height\").text = str(height)\n",
    "        ET.SubElement(size_tag, \"depth\").text = \"3\"\n",
    "\n",
    "    tree.write(xml_path)\n"
   ]
  },
  {
   "cell_type": "code",
   "execution_count": 6,
   "id": "018a33df",
   "metadata": {},
   "outputs": [
    {
     "name": "stdout",
     "output_type": "stream",
     "text": [
      "<class 'pandas.core.frame.DataFrame'>\n",
      "RangeIndex: 8469 entries, 0 to 8468\n",
      "Data columns (total 8 columns):\n",
      " #   Column    Non-Null Count  Dtype \n",
      "---  ------    --------------  ----- \n",
      " 0   filename  8469 non-null   object\n",
      " 1   width     8469 non-null   int64 \n",
      " 2   height    8469 non-null   int64 \n",
      " 3   class     8469 non-null   object\n",
      " 4   xmin      8469 non-null   int64 \n",
      " 5   ymin      8469 non-null   int64 \n",
      " 6   xmax      8469 non-null   int64 \n",
      " 7   ymax      8469 non-null   int64 \n",
      "dtypes: int64(6), object(2)\n",
      "memory usage: 529.4+ KB\n"
     ]
    }
   ],
   "source": [
    "df.info()"
   ]
  },
  {
   "cell_type": "code",
   "execution_count": 7,
   "id": "7f298b8e",
   "metadata": {},
   "outputs": [
    {
     "data": {
      "text/plain": [
       "array(['Cherry leaf', 'Peach leaf', 'Corn leaf blight', 'Apple rust leaf',\n",
       "       'Potato leaf late blight', 'Strawberry leaf', 'Corn rust leaf',\n",
       "       'Tomato leaf late blight', 'Tomato mold leaf',\n",
       "       'Potato leaf early blight', 'Apple leaf',\n",
       "       'Tomato leaf yellow virus', 'Blueberry leaf',\n",
       "       'Tomato leaf mosaic virus', 'Raspberry leaf',\n",
       "       'Tomato leaf bacterial spot', 'Squash Powdery mildew leaf',\n",
       "       'grape leaf', 'Corn Gray leaf spot', 'Tomato Early blight leaf',\n",
       "       'Apple Scab Leaf', 'Tomato Septoria leaf spot', 'Tomato leaf',\n",
       "       'Soyabean leaf', 'Bell_pepper leaf spot', 'Bell_pepper leaf',\n",
       "       'grape leaf black rot', 'Potato leaf',\n",
       "       'Tomato two spotted spider mites leaf'], dtype=object)"
      ]
     },
     "execution_count": 7,
     "metadata": {},
     "output_type": "execute_result"
    }
   ],
   "source": [
    "df[\"class\"].unique()"
   ]
  },
  {
   "cell_type": "code",
   "execution_count": null,
   "id": "8433b0e9",
   "metadata": {},
   "outputs": [],
   "source": [
    "distribution = df[\"class\"].value_counts(normalize=True).reset_index()\n",
    "distribution"
   ]
  },
  {
   "cell_type": "code",
   "execution_count": null,
   "id": "9b458651",
   "metadata": {},
   "outputs": [],
   "source": [
    "plt.figure(figsize=(10, 6))\n",
    "sns.histplot(df[\"class\"])\n",
    "plt.title(\"Distribution of the disease\")\n",
    "plt.xlabel(\"Class\")\n",
    "plt.ylabel(\"Frequence\")\n",
    "plt.xticks(rotation=45, ha='right')\n",
    "plt.grid(True)\n",
    "plt.tight_layout()\n",
    "plt.show()"
   ]
  },
  {
   "cell_type": "code",
   "execution_count": null,
   "id": "cb608190",
   "metadata": {},
   "outputs": [],
   "source": [
    "plt.figure(figsize=(10, 6))\n",
    "sns.barplot(distribution, x='class', y='proportion')\n",
    "plt.title(\"Distribution of the disease\")\n",
    "plt.xlabel(\"Class\")\n",
    "plt.ylabel(\"Proportion\")\n",
    "plt.xticks(rotation=45, ha='right')\n",
    "plt.grid(True)\n",
    "plt.tight_layout()\n",
    "plt.show()"
   ]
  },
  {
   "cell_type": "code",
   "execution_count": null,
   "id": "acaad7af",
   "metadata": {},
   "outputs": [],
   "source": [
    "import os\n",
    "import random\n",
    "from PIL import Image\n",
    "import xml.etree.ElementTree as ET\n",
    "import matplotlib.pyplot as plt\n",
    "import matplotlib.patches as patches"
   ]
  },
  {
   "cell_type": "code",
   "execution_count": null,
   "id": "d3e10b82",
   "metadata": {},
   "outputs": [],
   "source": [
    "dataset_dir = \"../../dataset/TRAIN\"\n",
    "all_images = [f for f in os.listdir(dataset_dir) if f.endswith(\".jpg\")]\n",
    "\n",
    "# select 30 random images\n",
    "sample_images = random.sample(all_images, min(30, len(all_images)))"
   ]
  },
  {
   "cell_type": "code",
   "execution_count": null,
   "id": "ea5b6e8f",
   "metadata": {},
   "outputs": [],
   "source": [
    "# set up the gril\n",
    "cols = 5\n",
    "rows = (len(sample_images) + cols - 1) // cols\n",
    "fig, axes = plt.subplots(rows, cols, figsize=(20, rows*4))\n",
    "axes = axes.flatten()\n",
    "\n",
    "for ax, img_file in zip(axes, sample_images):\n",
    "    img_path = os.path.join(dataset_dir, img_file)\n",
    "    img = Image.open(img_path)\n",
    "    width, height = img.size\n",
    "\n",
    "    # Lire annotations XML\n",
    "    xml_file = img_file.replace(\".jpg\", \".xml\")\n",
    "    xml_path = os.path.join(dataset_dir, xml_file)\n",
    "\n",
    "    annotations = []\n",
    "    if os.path.exists(xml_path):\n",
    "        tree = ET.parse(xml_path)\n",
    "        root = tree.getroot()\n",
    "        for obj in root.findall('object'):\n",
    "            name = obj.find('name').text\n",
    "            bndbox = obj.find('bndbox')\n",
    "            bbox = {\n",
    "                'xmin': int(bndbox.find('xmin').text),\n",
    "                'ymin': int(bndbox.find('ymin').text),\n",
    "                'xmax': int(bndbox.find('xmax').text),\n",
    "                'ymax': int(bndbox.find('ymax').text),\n",
    "            }\n",
    "            annotations.append({'label': name, 'bbox': bbox})\n",
    "\n",
    "    # Afficher l'image\n",
    "    ax.imshow(img)\n",
    "    ax.set_title(f\"{img_file}\\n{width}x{height}, {len(annotations)} objs\", fontsize=9)\n",
    "    ax.axis('off')\n",
    "\n",
    "    # Dessiner les bounding boxes\n",
    "    for ann in annotations:\n",
    "        bbox = ann['bbox']\n",
    "        rect = patches.Rectangle(\n",
    "            (bbox['xmin'], bbox['ymin']),\n",
    "            bbox['xmax'] - bbox['xmin'],\n",
    "            bbox['ymax'] - bbox['ymin'],\n",
    "            linewidth=2,\n",
    "            edgecolor='red',\n",
    "            facecolor='none'\n",
    "        )\n",
    "        ax.add_patch(rect)\n",
    "        ax.text(bbox['xmin'], bbox['ymin']-5, ann['label'], color='red', fontsize=8, weight='bold')\n",
    "\n",
    "plt.tight_layout()\n",
    "plt.show()"
   ]
  },
  {
   "cell_type": "code",
   "execution_count": null,
   "id": "607c2372",
   "metadata": {},
   "outputs": [],
   "source": [
    "df[\"resolution\"] = df['width'].astype(str) + \"x\" + df[\"height\"].astype(str)"
   ]
  },
  {
   "cell_type": "code",
   "execution_count": null,
   "id": "c242d9fa",
   "metadata": {},
   "outputs": [],
   "source": [
    "df[\"resolution\"].value_counts()"
   ]
  },
  {
   "cell_type": "code",
   "execution_count": null,
   "id": "67cd8f78",
   "metadata": {},
   "outputs": [],
   "source": [
    "sns.histplot(df[\"resolution\"])"
   ]
  },
  {
   "cell_type": "markdown",
   "id": "b6ffd224",
   "metadata": {},
   "source": [
    "# 2- Exploration to find any corupted data, invalid entries or missing files. \n",
    "## Double check and validate the integrity of the data"
   ]
  },
  {
   "cell_type": "code",
   "execution_count": null,
   "id": "eeb53669",
   "metadata": {},
   "outputs": [],
   "source": [
    "plant_species = ['Apple', 'Bell Pepper', 'Blueberry', 'Cherry', 'Corn', 'Grape', 'Peach', 'Potato', 'Raspberry', 'Soyabean', 'Squash', 'Strawberry', 'Tomato']"
   ]
  },
  {
   "cell_type": "code",
   "execution_count": null,
   "id": "6d3b8361",
   "metadata": {},
   "outputs": [],
   "source": [
    "df['class'] = df['class'].str.replace('_', ' ')"
   ]
  },
  {
   "cell_type": "code",
   "execution_count": null,
   "id": "87fa53d4",
   "metadata": {},
   "outputs": [],
   "source": [
    "df['class'].unique()"
   ]
  },
  {
   "cell_type": "code",
   "execution_count": null,
   "id": "f40e4dda",
   "metadata": {},
   "outputs": [],
   "source": [
    "def extract_species(text):\n",
    "    \"\"\"\n",
    "    Extracting the plan species from the string\n",
    "\n",
    "    Arg : text\n",
    "    return : plant species\n",
    "    \"\"\"\n",
    "    for plant in plant_species:\n",
    "        if re.search(rf\"\\b{plant}\\b\", text, flags=re.IGNORECASE):\n",
    "            return plant\n",
    "\n",
    "df['species'] = df['class'].apply(extract_species)"
   ]
  },
  {
   "cell_type": "code",
   "execution_count": null,
   "id": "30533d2b",
   "metadata": {},
   "outputs": [],
   "source": [
    "def extract_disease(text):\n",
    "    \"\"\"\n",
    "    Extracting the plant disease\n",
    "\n",
    "    Arg : text\n",
    "    return : plant desease\n",
    "    \"\"\"\n",
    "    for plant in plant_species:\n",
    "        text = re.sub(rf\"\\b{plant}\\b\", \"\", text, flags=re.IGNORECASE)\n",
    "    text = re.sub(r\"\\bleaf\\b\", \"\", text, flags=re.IGNORECASE).strip()\n",
    "    return text if text else None\n",
    "\n",
    "df[\"disease\"] = df[\"class\"].apply(extract_disease)\n"
   ]
  },
  {
   "cell_type": "code",
   "execution_count": null,
   "id": "1277c2a3",
   "metadata": {},
   "outputs": [],
   "source": [
    "# Replace missing diseases with \"healthy\"\n",
    "df[\"disease_filled\"] = df[\"disease\"].fillna(\"healthy\")"
   ]
  },
  {
   "cell_type": "code",
   "execution_count": null,
   "id": "142e984d",
   "metadata": {},
   "outputs": [],
   "source": [
    "sns.barplot(df['disease'].value_counts(normalize=True))\n",
    "plt.xticks(rotation=45, ha='right');"
   ]
  },
  {
   "cell_type": "markdown",
   "id": "1bd87cf8",
   "metadata": {},
   "source": [
    "As we can see, yellow virus is over represented, and two spotter spider mites are way under represented. \n",
    "So we would maybe cut some yellow virus to make it more even, and just delete the two spotted"
   ]
  },
  {
   "cell_type": "code",
   "execution_count": null,
   "id": "c51575e6",
   "metadata": {},
   "outputs": [],
   "source": [
    "sns.barplot(df['disease_filled'].value_counts(normalize=True))\n",
    "plt.xticks(rotation=45, ha='right');"
   ]
  },
  {
   "cell_type": "code",
   "execution_count": null,
   "id": "67e31310",
   "metadata": {},
   "outputs": [],
   "source": [
    "sns.barplot(df['species'].value_counts(normalize=True))\n",
    "plt.xticks(rotation=45, ha='right');"
   ]
  },
  {
   "cell_type": "code",
   "execution_count": null,
   "id": "b81ade4a",
   "metadata": {},
   "outputs": [],
   "source": [
    "# Count total number of disease entries per species\n",
    "disease_counts = df.groupby(\"species\")[\"disease_filled\"].count().reset_index()\n",
    "disease_counts = disease_counts.rename(columns={\"disease\": \"num_diseases\"})\n",
    "disease_counts"
   ]
  },
  {
   "cell_type": "code",
   "execution_count": null,
   "id": "8b790ac7",
   "metadata": {},
   "outputs": [],
   "source": [
    "# Count number of occurrences of each disease per species\n",
    "disease_distribution = df.groupby([\"species\", \"disease_filled\"]).size().reset_index(name=\"count\")\n",
    "\n",
    "# Calculate total per species\n",
    "total_per_species = disease_distribution.groupby(\"species\")[\"count\"].transform(\"sum\")\n",
    "\n",
    "# Calculate percentage\n",
    "disease_distribution[\"percentage\"] = disease_distribution[\"count\"] / total_per_species * 100\n",
    "\n",
    "disease_distribution"
   ]
  },
  {
   "cell_type": "code",
   "execution_count": null,
   "id": "49c67d31",
   "metadata": {},
   "outputs": [],
   "source": [
    "# Pivot table: diseases as columns, species as rows\n",
    "disease_pivot = disease_distribution.pivot(index=\"species\", columns=\"disease_filled\", values=\"count\").fillna(0)\n",
    "\n",
    "# Convert counts to percentages per species\n",
    "disease_percent = disease_pivot.div(disease_pivot.sum(axis=1), axis=0) * 100"
   ]
  },
  {
   "cell_type": "code",
   "execution_count": null,
   "id": "7f89878a",
   "metadata": {},
   "outputs": [],
   "source": [
    "ax = disease_percent.plot(\n",
    "    kind=\"bar\",\n",
    "    stacked=True,\n",
    "    figsize=(12,6),\n",
    "    colormap=\"tab20\"\n",
    ")\n",
    "\n",
    "plt.ylabel(\"Percentage (%)\")\n",
    "plt.xlabel(\"Species\")\n",
    "plt.title(\"100% Stacked bar plot of disease distribution per species (including healthy)\")\n",
    "plt.legend(title=\"Disease\", bbox_to_anchor=(1.05, 1), loc=\"upper left\")\n",
    "plt.xticks(rotation=45)\n",
    "plt.show()"
   ]
  },
  {
   "cell_type": "markdown",
   "id": "1c5cf4a2",
   "metadata": {},
   "source": [
    "As we can see, our data are well imbalenced.  \n",
    "For our model, we will have two possibilities.  \n",
    "1- either we don't care about reconize the species, and just focus on reconize disease.  \n",
    "2- We want to reconize species as well, so we will need to get rid of all the species too much imbalanced, or that only have one \"disease\""
   ]
  },
  {
   "cell_type": "code",
   "execution_count": null,
   "id": "cb89be78",
   "metadata": {},
   "outputs": [],
   "source": []
  }
 ],
 "metadata": {
  "kernelspec": {
   "display_name": "PlantDoc",
   "language": "python",
   "name": "python3"
  },
  "language_info": {
   "codemirror_mode": {
    "name": "ipython",
    "version": 3
   },
   "file_extension": ".py",
   "mimetype": "text/x-python",
   "name": "python",
   "nbconvert_exporter": "python",
   "pygments_lexer": "ipython3",
   "version": "3.10.6"
  }
 },
 "nbformat": 4,
 "nbformat_minor": 5
}
