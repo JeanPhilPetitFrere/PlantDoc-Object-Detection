{
 "cells": [
  {
   "cell_type": "code",
   "execution_count": 1,
   "id": "c81b190e",
   "metadata": {},
   "outputs": [],
   "source": [
    "import os\n",
    "import xml.etree.ElementTree as ET\n",
    "from pathlib import Path\n",
    "import shutil"
   ]
  },
  {
   "cell_type": "code",
   "execution_count": 2,
   "id": "c4b8de87",
   "metadata": {},
   "outputs": [],
   "source": [
    "# === CONFIG ===\n",
    "dataset_path = Path(\"../../dataset\")  # your main folder with train/ and test/\n",
    "output_path = Path(\"../../dataset/yolo\")  # where YOLO-ready data will be stored"
   ]
  },
  {
   "cell_type": "code",
   "execution_count": 3,
   "id": "c8c405a6",
   "metadata": {},
   "outputs": [
    {
     "name": "stdout",
     "output_type": "stream",
     "text": [
      "Detected classes: ['Apple Scab Leaf', 'Apple leaf', 'Apple rust leaf', 'Bell_pepper leaf', 'Bell_pepper leaf spot', 'Blueberry leaf', 'Cherry leaf', 'Corn Gray leaf spot', 'Corn leaf blight', 'Corn rust leaf', 'Peach leaf', 'Potato leaf', 'Potato leaf early blight', 'Potato leaf late blight', 'Raspberry leaf', 'Soyabean leaf', 'Squash Powdery mildew leaf', 'Strawberry leaf', 'Tomato Early blight leaf', 'Tomato Septoria leaf spot', 'Tomato leaf', 'Tomato leaf bacterial spot', 'Tomato leaf late blight', 'Tomato leaf mosaic virus', 'Tomato leaf yellow virus', 'Tomato mold leaf', 'Tomato two spotted spider mites leaf', 'grape leaf', 'grape leaf black rot']\n"
     ]
    }
   ],
   "source": [
    "# Collect all class names automatically\n",
    "class_names = set()\n",
    "for xml_file in dataset_path.rglob(\"*.xml\"):\n",
    "    tree = ET.parse(xml_file)\n",
    "    for obj in tree.findall(\"object\"):\n",
    "        class_names.add(obj.find(\"name\").text.strip())\n",
    "\n",
    "class_names = sorted(list(class_names))\n",
    "print(f\"Detected classes: {class_names}\")"
   ]
  },
  {
   "cell_type": "code",
   "execution_count": 4,
   "id": "3ef2ca09",
   "metadata": {},
   "outputs": [
    {
     "data": {
      "text/plain": [
       "29"
      ]
     },
     "execution_count": 4,
     "metadata": {},
     "output_type": "execute_result"
    }
   ],
   "source": [
    "len(class_names)"
   ]
  },
  {
   "cell_type": "code",
   "execution_count": 5,
   "id": "a1d83c8e",
   "metadata": {},
   "outputs": [],
   "source": [
    "# === Create folders ===\n",
    "for split in ['train', 'test']:\n",
    "    (output_path / 'images' / split).mkdir(parents=True, exist_ok=True)\n",
    "    (output_path / 'labels' / split).mkdir(parents=True, exist_ok=True)"
   ]
  },
  {
   "cell_type": "code",
   "execution_count": 6,
   "id": "a6f31387",
   "metadata": {},
   "outputs": [],
   "source": [
    "# === Function to convert one XML file ===\n",
    "def convert_xml_to_yolo(xml_file):\n",
    "    tree = ET.parse(xml_file)\n",
    "    root = tree.getroot()\n",
    "\n",
    "    size = root.find(\"size\")\n",
    "    w = int(size.find(\"width\").text)\n",
    "    h = int(size.find(\"height\").text)\n",
    "\n",
    "    yolo_data = []\n",
    "    for obj in root.findall(\"object\"):\n",
    "        cls = obj.find(\"name\").text.strip()\n",
    "        if cls not in class_names:\n",
    "            continue\n",
    "        cls_id = class_names.index(cls)\n",
    "\n",
    "        xml_box = obj.find(\"bndbox\")\n",
    "        x_min = float(xml_box.find(\"xmin\").text)\n",
    "        y_min = float(xml_box.find(\"ymin\").text)\n",
    "        x_max = float(xml_box.find(\"xmax\").text)\n",
    "        y_max = float(xml_box.find(\"ymax\").text)\n",
    "\n",
    "        # Normalize coordinates\n",
    "        x_center = ((x_min + x_max) / 2.0) / w\n",
    "        y_center = ((y_min + y_max) / 2.0) / h\n",
    "        width = (x_max - x_min) / w\n",
    "        height = (y_max - y_min) / h\n",
    "\n",
    "        yolo_data.append(f\"{cls_id} {x_center:.6f} {y_center:.6f} {width:.6f} {height:.6f}\")\n",
    "\n",
    "    return yolo_data"
   ]
  },
  {
   "cell_type": "code",
   "execution_count": null,
   "id": "fa8d6b59",
   "metadata": {},
   "outputs": [
    {
     "name": "stdout",
     "output_type": "stream",
     "text": [
      "✅ Conversion complete!\n",
      "YOLO dataset saved to: /home/tanguy/code/Tanguyrhd/personal-projects/PlantDoc-Object-Detection/dataset/yolo\n",
      "Classes: ['Apple Scab Leaf', 'Apple leaf', 'Apple rust leaf', 'Bell_pepper leaf', 'Bell_pepper leaf spot', 'Blueberry leaf', 'Cherry leaf', 'Corn Gray leaf spot', 'Corn leaf blight', 'Corn rust leaf', 'Peach leaf', 'Potato leaf', 'Potato leaf early blight', 'Potato leaf late blight', 'Raspberry leaf', 'Soyabean leaf', 'Squash Powdery mildew leaf', 'Strawberry leaf', 'Tomato Early blight leaf', 'Tomato Septoria leaf spot', 'Tomato leaf', 'Tomato leaf bacterial spot', 'Tomato leaf late blight', 'Tomato leaf mosaic virus', 'Tomato leaf yellow virus', 'Tomato mold leaf', 'Tomato two spotted spider mites leaf', 'grape leaf', 'grape leaf black rot']\n"
     ]
    }
   ],
   "source": [
    "# === Convert everything ===\n",
    "for split in ['train', 'test']:\n",
    "    for xml_file in (dataset_path / split).glob(\"*.xml\"):\n",
    "        img_file = xml_file.with_suffix(\".jpg\")\n",
    "        if not img_file.exists():\n",
    "            continue\n",
    "\n",
    "        yolo_lines = convert_xml_to_yolo(xml_file)\n",
    "        # Save label\n",
    "        label_out = output_path / \"labels\" / split / (xml_file.stem + \".txt\")\n",
    "        with open(label_out, \"w\") as f:\n",
    "            f.write(\"\\n\".join(yolo_lines))\n",
    "\n",
    "        # Copy image\n",
    "        shutil.copy(img_file, output_path / \"images\" / split / img_file.name)\n",
    "\n",
    "print(\"Conversion complete!\")\n",
    "print(f\"YOLO dataset saved to: {output_path.resolve()}\")\n",
    "print(f\"Classes: {class_names}\")"
   ]
  }
 ],
 "metadata": {
  "kernelspec": {
   "display_name": "PlantDoc",
   "language": "python",
   "name": "python3"
  },
  "language_info": {
   "codemirror_mode": {
    "name": "ipython",
    "version": 3
   },
   "file_extension": ".py",
   "mimetype": "text/x-python",
   "name": "python",
   "nbconvert_exporter": "python",
   "pygments_lexer": "ipython3",
   "version": "3.10.6"
  }
 },
 "nbformat": 4,
 "nbformat_minor": 5
}
