{
 "cells": [
  {
   "cell_type": "code",
   "execution_count": 1,
   "id": "9d3d8421",
   "metadata": {},
   "outputs": [],
   "source": [
    "import yaml\n",
    "from pathlib import Path"
   ]
  },
  {
   "cell_type": "code",
   "execution_count": 2,
   "id": "8aed8d00",
   "metadata": {},
   "outputs": [],
   "source": [
    "classes = ['Cherry leaf', 'Peach leaf', 'Corn leaf blight', 'Apple rust leaf',\n",
    "       'Potato leaf late blight', 'Strawberry leaf', 'Corn rust leaf',\n",
    "       'Tomato leaf late blight', 'Tomato mold leaf',\n",
    "       'Potato leaf early blight', 'Apple leaf',\n",
    "       'Tomato leaf yellow virus', 'Blueberry leaf',\n",
    "       'Tomato leaf mosaic virus', 'Raspberry leaf',\n",
    "       'Tomato leaf bacterial spot', 'Squash Powdery mildew leaf',\n",
    "       'grape leaf', 'Corn Gray leaf spot', 'Tomato Early blight leaf',\n",
    "       'Apple Scab Leaf', 'Tomato Septoria leaf spot', 'Tomato leaf',\n",
    "       'Soyabean leaf', 'Bell_pepper leaf spot', 'Bell_pepper leaf',\n",
    "       'grape leaf black rot', 'Potato leaf',\n",
    "       'Tomato two spotted spider mites leaf']"
   ]
  },
  {
   "cell_type": "code",
   "execution_count": 5,
   "id": "cae8c154",
   "metadata": {},
   "outputs": [],
   "source": [
    "data = {\n",
    "    'train': str(Path('dataset/yolo/images/train').resolve()),\n",
    "    'val': str(Path('dataset/yolo/images/val').resolve()),\n",
    "    'nc': len(classes),\n",
    "    'names': classes\n",
    "}\n",
    "\n",
    "with open('../../dataset.yaml', 'w') as f:\n",
    "    yaml.dump(data, f)"
   ]
  },
  {
   "cell_type": "code",
   "execution_count": null,
   "id": "22708947",
   "metadata": {},
   "outputs": [],
   "source": []
  }
 ],
 "metadata": {
  "kernelspec": {
   "display_name": "PlantDoc",
   "language": "python",
   "name": "python3"
  },
  "language_info": {
   "codemirror_mode": {
    "name": "ipython",
    "version": 3
   },
   "file_extension": ".py",
   "mimetype": "text/x-python",
   "name": "python",
   "nbconvert_exporter": "python",
   "pygments_lexer": "ipython3",
   "version": "3.10.6"
  }
 },
 "nbformat": 4,
 "nbformat_minor": 5
}
